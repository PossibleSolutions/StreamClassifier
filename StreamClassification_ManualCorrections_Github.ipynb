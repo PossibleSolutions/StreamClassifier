{
 "cells": [
  {
   "cell_type": "markdown",
   "metadata": {},
   "source": [
    "# Implementation of manual corrections (in vector and raster form)"
   ]
  },
  {
   "cell_type": "markdown",
   "metadata": {},
   "source": [
    "# Fixing national data based on a vector file first converted to a raster file\n",
    "\n",
    "processing.run(\"native:mergevectorlayers\", {'LAYERS':['Path/Fixes1.shp','Path/Fixes2.shp'],'CRS':QgsCoordinateReferenceSystem('EPSG:3067'),'OUTPUT':'FixesAll'})\n",
    "->field calculator, new numerical field based on a text description of manual correction (correction code)\n",
    "\n",
    "processing.run(\"gdal:rasterize\", {'INPUT':'Path/FixesAll.gpkg|layername=FixesAll','FIELD':'Correction code','BURN':0,'USE_Z':False,'UNITS':0,'WIDTH':69600,'HEIGHT':118800,'EXTENT':'44000.000000000,740000.000000000,6594000.000000000,7782000.000000000 [EPSG:3067]','NODATA':0,'OPTIONS':'COMPRESS=LZW|BIGTIFF=IF_NEEDED|SPARSE_OK=YES|TILED=YES','DATA_TYPE':5,'INIT':None,'INVERT':False,'EXTRA':'','OUTPUT':'Path/Fixraster.tif'})"
   ]
  },
  {
   "cell_type": "code",
   "execution_count": null,
   "metadata": {},
   "outputs": [
    {
     "name": "stdout",
     "output_type": "stream",
     "text": [
      "OG read\n",
      "Fix read\n",
      "conditions set\n"
     ]
    }
   ],
   "source": [
    "import rioxarray\n",
    "import xarray as xr\n",
    "import numpy as np\n",
    "import dask.array as da\n",
    "\n",
    "out = r'Path\\Output\\Fixed1.tif'\n",
    "\n",
    "# Read the data with chunking\n",
    "OG = rioxarray.open_rasterio(r\"Path\\Input\\MaskWithStreamvalues.tif\", chunks={'band': 1, 'x': 1024, 'y': 1024})\n",
    "Fix = rioxarray.open_rasterio(r\"Path\\Input\\Fixraster.tif\", chunks={'band': 1, 'x': 1024, 'y': 1024})\n",
    "\n",
    "OG_data = OG[0]\n",
    "print('OG read')\n",
    "Fix_data = Fix[0]\n",
    "print('Fix read')\n",
    "\n",
    "# Apply the conditions\n",
    "#jos korjausaineistossa kommenttina \"tämä ojittamattomaksi\" -> fix_data=10 ja ojitetut luokat 11 sekä 21 muutetaan ojittamattomaan luokkaan 10 ja 20\n",
    "#ts kun og_data=11 ja fix_data=10, anna arvoksi 10, muutoin pidä OG eri original arvo\n",
    "OG_data = da.where((OG_data == 11) & (Fix_data == 10), 10, OG_data)\n",
    "OG_data = da.where((OG_data == 21) & (Fix_data == 10), 20, OG_data)\n",
    "#jos aineistossa \"puuttuneet ojitukset\" -> fix_data=11 ja ojittomattomat luokat 10 sekä 20 muutetaan ojitettuun luokkaan 11 ja 21\n",
    "OG_data = da.where((OG_data == 10) & (Fix_data == 11), 11, OG_data)\n",
    "OG_data = da.where((OG_data == 20) & (Fix_data == 11), 21, OG_data)\n",
    "#jos korjausaineistossa kommenttina \"entinen pelto\" -> fix_data=22 ja turveluokat 20 sekä 21 muutetaan luokkaan 22\n",
    "OG_data = da.where((OG_data == 20) & (Fix_data == 22), 22, OG_data)\n",
    "OG_data = da.where((OG_data == 21) & (Fix_data == 22), 22, OG_data)\n",
    "#jos korjausaineistossa kommenttina \"entinen/nykyinen turvetuotantoalue\" -> fix_data=23 ja turveluokat 20 sekä 21 muutetaan luokkaan 23\n",
    "OG_data = da.where((OG_data == 20) & (Fix_data == 23), 23, OG_data)\n",
    "OG_data = da.where((OG_data == 21) & (Fix_data == 23), 23, OG_data)\n",
    "\n",
    "print('conditions set')\n",
    "\n",
    "\n",
    "# Specify the compression type, sparse_ok, and tiled options\n",
    "compression_options = { \n",
    "\"compress\": \"lzw\",\n",
    "\"sparse_ok\": True,\n",
    "\"tiled\": True\n",
    "}\n",
    "\n",
    "# Save the result to a new raster file\n",
    "result_xarray = xr.DataArray(OG_data, dims=(\"y\", \"x\"), coords={\"y\": OG.y, \"x\": OG.x})\n",
    "result_xarray.rio.write_crs(OG.rio.crs, inplace=True)\n",
    "result_xarray.rio.to_raster(out, dtype='float32', **compression_options)\n"
   ]
  },
  {
   "cell_type": "markdown",
   "metadata": {},
   "source": [
    "# Fixing Lapland based on a raster in smaller dimensions"
   ]
  },
  {
   "cell_type": "markdown",
   "metadata": {},
   "source": [
    "## First change all the inputs to same dimensions\n",
    "\n",
    "processing.run(\"gdal:warpreproject\", {'INPUT':'Path/SmallerDimensionRaster.tif','SOURCE_CRS':QgsCoordinateReferenceSystem('EPSG:3067'),'TARGET_CRS':QgsCoordinateReferenceSystem('EPSG:3067'),'RESAMPLING':0,'NODATA':None,'TARGET_RESOLUTION':None,'OPTIONS':'COMPRESS=LZW|SPARSE_OK=YES','DATA_TYPE':0,'TARGET_EXTENT':'44000.000000000,740000.000000000,6594000.000000000,7782000.000000000 [EPSG:3067]','TARGET_EXTENT_CRS':QgsCoordinateReferenceSystem('EPSG:3067'),'MULTITHREADING':True,'EXTRA':'','OUTPUT':'Path/SmallerDimensionRaster_WarpedToLargerScale.tif'})"
   ]
  },
  {
   "cell_type": "code",
   "execution_count": null,
   "metadata": {},
   "outputs": [
    {
     "name": "stdout",
     "output_type": "stream",
     "text": [
      "OG read\n",
      "Lappi read\n",
      "TiePeltoTurv read\n",
      "conditions set\n"
     ]
    }
   ],
   "source": [
    "import rioxarray\n",
    "import xarray as xr\n",
    "import numpy as np\n",
    "import dask.array as da\n",
    "\n",
    "out = r'Path\\Output\\Fixed2.tif'\n",
    "\n",
    "# Read the data with chunking\n",
    "chunksize = 1000\n",
    "chunksize = 'auto'\n",
    "OG = rioxarray.open_rasterio(r\"Path\\Output\\Fixed1.tif\", chunks={'band': 1, 'x': chunksize, 'y': chunksize})\n",
    "Lappi = rioxarray.open_rasterio(r\"Path\\SmallerDimensionRaster_WarpedToLargerScale.tif\", chunks={'band': 1, 'x': chunksize, 'y': chunksize})\n",
    "TiePeltoTurv = rioxarray.open_rasterio(r\"Path\\RoadFieldPeatprod.tif\", chunks={'band': 1, 'x': chunksize, 'y': chunksize})\n",
    "\n",
    "OG_data = OG[0]\n",
    "print('OG read')\n",
    "Lappi_data = Lappi[0]\n",
    "print('Lappi read')\n",
    "TiePeltoTurv_data = TiePeltoTurv[0]\n",
    "print('TiePeltoTurv read')\n",
    "\n",
    "\n",
    "# Apply the conditions\n",
    "#jos lappidata=1, alueella ei pitäisi olla ojia, mutta jos alueella tietä,peltoa tai turvemaata, arvo muutetaan ojitetuksi=2, muuten alkuperäinen arvo\n",
    "Lappi_data = da.where((Lappi_data == 1) & (TiePeltoTurv_data == 1), 2, Lappi_data)\n",
    "#jos ojitettu kivennäismaa lapissa, muuta ojittamattomaksi, muuten alkuperäinen arvo\n",
    "OG_data = da.where((OG_data == 11) & (Lappi_data == 1), 10, OG_data)\n",
    "#jos ojitettu turvemaa lapissa, muuta ojittamattomaksi, muuten alkuperäinen arvo\n",
    "OG_data = da.where((OG_data == 21) & (Lappi_data == 1), 20, OG_data)\n",
    "\n",
    "print('conditions set')\n",
    "\n",
    "\n",
    "# Specify the compression type, sparse_ok, and tiled options\n",
    "compression_options = { \n",
    "\"compress\": \"lzw\",\n",
    "\"sparse_ok\": True,\n",
    "\"tiled\": True\n",
    "}\n",
    "\n",
    "# Save the result to a new raster file\n",
    "result_xarray = xr.DataArray(OG_data, dims=(\"y\", \"x\"), coords={\"y\": OG.y, \"x\": OG.x})\n",
    "result_xarray.rio.write_crs(OG.rio.crs, inplace=True)\n",
    "result_xarray.rio.to_raster(out, dtype='float32', **compression_options)"
   ]
  },
  {
   "cell_type": "markdown",
   "metadata": {},
   "source": [
    "# Creation of a check up raster with only the changed areas"
   ]
  },
  {
   "cell_type": "code",
   "execution_count": null,
   "metadata": {},
   "outputs": [
    {
     "name": "stdout",
     "output_type": "stream",
     "text": [
      "OG read\n",
      "Fix read\n",
      "conditions set\n"
     ]
    }
   ],
   "source": [
    "import rioxarray\n",
    "import xarray as xr\n",
    "import numpy as np\n",
    "import dask.array as da\n",
    "\n",
    "out = r'Path\\Output\\ChangedAreas.tif'\n",
    "\n",
    "# Read the data with chunking\n",
    "chunksize = 'auto'\n",
    "OG = rioxarray.open_rasterio(r\"Path\\Input\\MaskWithStreamvalues.tif\", chunks={'band': 1, 'x': chunksize, 'y': chunksize})\n",
    "Fix = rioxarray.open_rasterio(r\"Path\\Output\\Fixed2.tif\", chunks={'band': 1, 'x': chunksize, 'y': chunksize})\n",
    "\n",
    "\n",
    "OG_data = OG[0]\n",
    "print('OG read')\n",
    "Fix_data = Fix[0]\n",
    "print('Fix read')\n",
    "\n",
    "# Apply the conditions\n",
    "#jos korjausaineistossa kommenttina \"tämä ojittamattomaksi\" -> fix_data=10 ja ojitetut luokat 11 sekä 21 muutetaan ojittamattomaan luokkaan 10 ja 20\n",
    "#ts kun og_data=11 ja fix_data=10, anna arvoksi 10, muutoin pidä OG eri original arvo\n",
    "OG_data = da.where((OG_data != Fix_data), 1, 0)\n",
    "\n",
    "print('conditions set')\n",
    "\n",
    "\n",
    "# Specify the compression type, sparse_ok, and tiled options\n",
    "compression_options = { \n",
    "\"compress\": \"lzw\",\n",
    "\"sparse_ok\": True,\n",
    "\"tiled\": True\n",
    "}\n",
    "\n",
    "# Save the result to a new raster file\n",
    "result_xarray = xr.DataArray(OG_data, dims=(\"y\", \"x\"), coords={\"y\": OG.y, \"x\": OG.x})\n",
    "result_xarray.rio.write_crs(OG.rio.crs, inplace=True)\n",
    "result_xarray.rio.to_raster(out, dtype='float32', **compression_options)\n"
   ]
  },
  {
   "cell_type": "markdown",
   "metadata": {},
   "source": [
    "# Additional checkups and corrections\n",
    "\n",
    "First convert vector to raster\n",
    "Here agricultural lands are buffered 50m and updated with a newer version\n",
    "processing.run(\"gdal:rasterize\", {'INPUT':'Path/AgriculturalLandBuff50m.gpkg|layername=AgriculturalLandBuff50m','FIELD':'kohdeluokka','BURN':0,'USE_Z':False,'UNITS':0,'WIDTH':69600,'HEIGHT':118800,'EXTENT':'44000.000000000,740000.000000000,6594000.000000000,7782000.000000000 [EPSG:3067]','NODATA':0,'OPTIONS':'COMPRESS=LZW|SPARSE_OK=YES|TILED=YES','DATA_TYPE':5,'INIT':None,'INVERT':False,'EXTRA':'','OUTPUT':'Path/AgriculturalLandBuff50m.tif'})"
   ]
  },
  {
   "cell_type": "code",
   "execution_count": null,
   "metadata": {},
   "outputs": [
    {
     "name": "stdout",
     "output_type": "stream",
     "text": [
      "OG read\n",
      "Fix read\n",
      "conditions set\n"
     ]
    }
   ],
   "source": [
    "import rioxarray\n",
    "import xarray as xr\n",
    "import numpy as np\n",
    "import dask.array as da\n",
    "\n",
    "out = r\"Path\\Fixed3.tif\"\n",
    "\n",
    "# Read the data with chunking\n",
    "chunksize = 'auto'\n",
    "OG = rioxarray.open_rasterio(r\"Path\\Fixed2.tif\", chunks={'band': 1, 'x': chunksize, 'y': chunksize})\n",
    "Fix = rioxarray.open_rasterio(r\"Path\\AgriculturalLandBuff50m.tif\", chunks={'band': 1, 'x': chunksize, 'y': chunksize})\n",
    "\n",
    "\n",
    "OG_data = OG[0]\n",
    "print('OG read')\n",
    "Fix_data = Fix[0]\n",
    "print('Fix read')\n",
    "\n",
    "# Apply the conditions\n",
    "#jos fix datassa arvo (maatalousmaan puskurialueella), muuta ojittamaton ojitetuksi\n",
    "OG_data = da.where((OG_data == 10) & (Fix_data != 0), 11, OG_data)\n",
    "OG_data = da.where((OG_data == 20) & (Fix_data != 0), 21, OG_data)\n",
    "\n",
    "print('conditions set')\n",
    "\n",
    "# Specify the compression type, sparse_ok, and tiled options\n",
    "compression_options = { \n",
    "\"compress\": \"lzw\",\n",
    "\"sparse_ok\": True,\n",
    "\"tiled\": True\n",
    "}\n",
    "\n",
    "# Save the result to a new raster file\n",
    "result_xarray = xr.DataArray(OG_data, dims=(\"y\", \"x\"), coords={\"y\": OG.y, \"x\": OG.x})\n",
    "result_xarray.rio.write_crs(OG.rio.crs, inplace=True)\n",
    "result_xarray.rio.to_raster(out, dtype='float32', **compression_options)\n"
   ]
  },
  {
   "cell_type": "markdown",
   "metadata": {},
   "source": [
    "# If certain classes seem unnecessary, convert them to nan here\n",
    "\n",
    "e.g. classes 0,1,2,22 where\n",
    "0 is nan\n",
    "1 is ditch raster not intersecting background mask (not peat land or mineral soil)\n",
    "2 is ditch raster not intersecting background mask (not peat land or mineral soil)\n",
    "22 is an unsatisfactory class. Class coverage was deemed lacking and misleading"
   ]
  },
  {
   "cell_type": "code",
   "execution_count": null,
   "metadata": {},
   "outputs": [
    {
     "name": "stdout",
     "output_type": "stream",
     "text": [
      "OG read\n",
      "conditions set\n"
     ]
    }
   ],
   "source": [
    "import rioxarray\n",
    "import xarray as xr\n",
    "import numpy as np\n",
    "import dask.array as da\n",
    "\n",
    "out = r\"Path\\Fixed4.tif\"\n",
    "\n",
    "# Read the data with chunking\n",
    "chunksize = 'auto'\n",
    "OG = rioxarray.open_rasterio(r\"Path\\Fixed3.tif\", chunks={'band': 1, 'x': chunksize, 'y': chunksize})\n",
    "\n",
    "OG_data = OG[0]\n",
    "print('OG read')\n",
    "\n",
    "# Apply the condition\n",
    "OG_data = da.where(((OG_data == 0) | (OG_data == 1) | (OG_data == 2) | (OG_data == 22)), np.nan, OG_data)\n",
    "\n",
    "print('conditions set')\n",
    "\n",
    "\n",
    "# Specify the compression type, sparse_ok, and tiled options\n",
    "compression_options = { \n",
    "\"compress\": \"lzw\",\n",
    "\"sparse_ok\": True,\n",
    "\"tiled\": True\n",
    "}\n",
    "\n",
    "# Save the result to a new raster file\n",
    "result_xarray = xr.DataArray(OG_data, dims=(\"y\", \"x\"), coords={\"y\": OG.y, \"x\": OG.x})\n",
    "result_xarray.rio.write_crs(OG.rio.crs, inplace=True)\n",
    "result_xarray.rio.to_raster(out, dtype='float32', **compression_options)"
   ]
  },
  {
   "cell_type": "markdown",
   "metadata": {},
   "source": [
    "## Sieve isolated pixels (optional)\n",
    "\n",
    "processing.run(\"gdal:sieve\", {'INPUT':\"Path\\Fixed3.tif\",'THRESHOLD':4,'EIGHT_CONNECTEDNESS':False,'NO_MASK':False,'MASK_LAYER':None,'EXTRA':'','OUTPUT':\"Path\\Fixed3.tif\"})"
   ]
  },
  {
   "cell_type": "markdown",
   "metadata": {},
   "source": [
    "# Creation of a check up raster with only the changed areas again if necessary\n",
    "same syntax as before"
   ]
  }
 ],
 "metadata": {
  "kernelspec": {
   "display_name": "PipEnv",
   "language": "python",
   "name": "python3"
  },
  "language_info": {
   "codemirror_mode": {
    "name": "ipython",
    "version": 3
   },
   "file_extension": ".py",
   "mimetype": "text/x-python",
   "name": "python",
   "nbconvert_exporter": "python",
   "pygments_lexer": "ipython3",
   "version": "3.10.9"
  }
 },
 "nbformat": 4,
 "nbformat_minor": 2
}
